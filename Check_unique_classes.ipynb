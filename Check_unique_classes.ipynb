{
 "cells": [
  {
   "cell_type": "code",
   "execution_count": 1,
   "metadata": {},
   "outputs": [],
   "source": [
    "import pandas as pd"
   ]
  },
  {
   "cell_type": "code",
   "execution_count": 2,
   "metadata": {},
   "outputs": [],
   "source": [
    "data = pd.read_csv(\"train_labels.csv\") \n"
   ]
  },
  {
   "cell_type": "code",
   "execution_count": 3,
   "metadata": {},
   "outputs": [
    {
     "data": {
      "text/html": [
       "<div>\n",
       "<style scoped>\n",
       "    .dataframe tbody tr th:only-of-type {\n",
       "        vertical-align: middle;\n",
       "    }\n",
       "\n",
       "    .dataframe tbody tr th {\n",
       "        vertical-align: top;\n",
       "    }\n",
       "\n",
       "    .dataframe thead th {\n",
       "        text-align: right;\n",
       "    }\n",
       "</style>\n",
       "<table border=\"1\" class=\"dataframe\">\n",
       "  <thead>\n",
       "    <tr style=\"text-align: right;\">\n",
       "      <th></th>\n",
       "      <th>filename</th>\n",
       "      <th>width</th>\n",
       "      <th>height</th>\n",
       "      <th>class</th>\n",
       "      <th>xmin</th>\n",
       "      <th>ymin</th>\n",
       "      <th>xmax</th>\n",
       "      <th>ymax</th>\n",
       "    </tr>\n",
       "  </thead>\n",
       "  <tbody>\n",
       "    <tr>\n",
       "      <th>0</th>\n",
       "      <td>/home/usman/usman_umar/lib/python/nike/nike_De...</td>\n",
       "      <td>1366</td>\n",
       "      <td>768</td>\n",
       "      <td>nike</td>\n",
       "      <td>556</td>\n",
       "      <td>436</td>\n",
       "      <td>599</td>\n",
       "      <td>457</td>\n",
       "    </tr>\n",
       "    <tr>\n",
       "      <th>1</th>\n",
       "      <td>/home/usman/usman_umar/lib/python/nike/nike_De...</td>\n",
       "      <td>2048</td>\n",
       "      <td>1536</td>\n",
       "      <td>nike</td>\n",
       "      <td>904</td>\n",
       "      <td>582</td>\n",
       "      <td>1037</td>\n",
       "      <td>659</td>\n",
       "    </tr>\n",
       "    <tr>\n",
       "      <th>2</th>\n",
       "      <td>/home/usman/usman_umar/lib/python/nike/nike_De...</td>\n",
       "      <td>1366</td>\n",
       "      <td>768</td>\n",
       "      <td>nike</td>\n",
       "      <td>364</td>\n",
       "      <td>408</td>\n",
       "      <td>433</td>\n",
       "      <td>449</td>\n",
       "    </tr>\n",
       "    <tr>\n",
       "      <th>3</th>\n",
       "      <td>/home/usman/usman_umar/lib/python/nike/nike_De...</td>\n",
       "      <td>255</td>\n",
       "      <td>296</td>\n",
       "      <td>nike</td>\n",
       "      <td>486</td>\n",
       "      <td>304</td>\n",
       "      <td>540</td>\n",
       "      <td>339</td>\n",
       "    </tr>\n",
       "    <tr>\n",
       "      <th>4</th>\n",
       "      <td>/home/usman/usman_umar/lib/python/nike/nike_De...</td>\n",
       "      <td>255</td>\n",
       "      <td>296</td>\n",
       "      <td>nike</td>\n",
       "      <td>329</td>\n",
       "      <td>248</td>\n",
       "      <td>529</td>\n",
       "      <td>347</td>\n",
       "    </tr>\n",
       "  </tbody>\n",
       "</table>\n",
       "</div>"
      ],
      "text/plain": [
       "                                            filename  width  height class  \\\n",
       "0  /home/usman/usman_umar/lib/python/nike/nike_De...   1366     768  nike   \n",
       "1  /home/usman/usman_umar/lib/python/nike/nike_De...   2048    1536  nike   \n",
       "2  /home/usman/usman_umar/lib/python/nike/nike_De...   1366     768  nike   \n",
       "3  /home/usman/usman_umar/lib/python/nike/nike_De...    255     296  nike   \n",
       "4  /home/usman/usman_umar/lib/python/nike/nike_De...    255     296  nike   \n",
       "\n",
       "   xmin  ymin  xmax  ymax  \n",
       "0   556   436   599   457  \n",
       "1   904   582  1037   659  \n",
       "2   364   408   433   449  \n",
       "3   486   304   540   339  \n",
       "4   329   248   529   347  "
      ]
     },
     "execution_count": 3,
     "metadata": {},
     "output_type": "execute_result"
    }
   ],
   "source": [
    "data.head()"
   ]
  },
  {
   "cell_type": "code",
   "execution_count": 4,
   "metadata": {},
   "outputs": [
    {
     "data": {
      "text/plain": [
       "array(['nike', 'apple'], dtype=object)"
      ]
     },
     "execution_count": 4,
     "metadata": {},
     "output_type": "execute_result"
    }
   ],
   "source": [
    "data['class'].unique()\n"
   ]
  }
 ],
 "metadata": {
  "kernelspec": {
   "display_name": "Python 3",
   "language": "python",
   "name": "python3"
  },
  "language_info": {
   "codemirror_mode": {
    "name": "ipython",
    "version": 3
   },
   "file_extension": ".py",
   "mimetype": "text/x-python",
   "name": "python",
   "nbconvert_exporter": "python",
   "pygments_lexer": "ipython3",
   "version": "3.6.2"
  }
 },
 "nbformat": 4,
 "nbformat_minor": 2
}
